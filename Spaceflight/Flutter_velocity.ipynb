{
  "nbformat": 4,
  "nbformat_minor": 0,
  "metadata": {
    "colab": {
      "name": "Flutter velocity.ipynb",
      "provenance": []
    },
    "kernelspec": {
      "name": "python3",
      "display_name": "Python 3"
    },
    "language_info": {
      "name": "python"
    }
  },
  "cells": [
    {
      "cell_type": "code",
      "execution_count": 5,
      "metadata": {
        "colab": {
          "base_uri": "https://localhost:8080/"
        },
        "id": "rq9Px0lU_m2T",
        "outputId": "b3f6b533-7061-47be-98cb-bf3fae3ba819"
      },
      "outputs": [
        {
          "output_type": "stream",
          "name": "stdout",
          "text": [
            "fin thickness is  1.27  cm\n",
            "Maximum Mach fin can survive: 2.1672214619808363\n"
          ]
        }
      ],
      "source": [
        "import math\n",
        "\n",
        "# Source: https://apogeerockets.com/education/downloads/Newsletter291.pdf\n",
        "# Everything is in inch or Fahrenheit\n",
        "\n",
        "Cr = 39.4                               #root chord \n",
        "\n",
        "Ct = 19.7                               #tip chord\n",
        "\n",
        "b = 19.7                                #sweep distance/semi-span\n",
        "\n",
        "G = 3.5*10**6                           #Shear Modulus (of aluminium)\n",
        "\n",
        "t = 0.5                                 #thickness\n",
        "\n",
        "print('fin thickness is ',t*2.54,' cm')\n",
        "\n",
        "h = 3000                                #height\n",
        "\n",
        "T = 59-0.00356*h                        #temperature, assuming it varies linearly with height. Change later\n",
        "\n",
        "S = 1/2*(Cr+Ct)*b                       #Area of fin\n",
        "\n",
        "AR = b*b/S                              #Aspect Ratio\n",
        "\n",
        "lam = Ct/Cr                             #lambda, reserved name so can't use\n",
        "\n",
        "a =  math.sqrt(1.4*1716.59*(T+459.7))   #speed of sound, assuming it only change based on temperature\n",
        "\n",
        "P = 2116*((T+459.7)/518.6)**5.256/144   #divide by 144 is conversion factor to inch\n",
        "\n",
        "Vf = a*math.sqrt(G/(1.337*AR**3*P*(lam+1))*2*(AR+2)*(t/Cr)**3)/1125   #divide by 1125 to convert ft/s to Mach number\n",
        "\n",
        "print('Maximum Mach fin can survive:',Vf)"
      ]
    }
  ]
}